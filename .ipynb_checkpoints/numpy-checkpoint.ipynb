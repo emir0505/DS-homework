{
 "cells": [
  {
   "cell_type": "markdown",
   "metadata": {
    "id": "vC84e9kzyxPy"
   },
   "source": [
    "<h1>Импорт библиотек"
   ]
  },
  {
   "cell_type": "code",
   "execution_count": 2,
   "metadata": {
    "id": "cgKeNegmQG5S"
   },
   "outputs": [],
   "source": [
    "import numpy as np\n",
    "import matplotlib.pyplot as plt"
   ]
  },
  {
   "cell_type": "markdown",
   "metadata": {
    "id": "qFM9uVU2x4Ls"
   },
   "source": [
    "<h1>Задача 1. Дан набор из $p$ матриц размерностью $(n, n)$ и $p$ векторов размерностью $(n, 1)$, найти сумму произведений матриц на векторы. Написать тесты для кода"
   ]
  },
  {
   "cell_type": "code",
   "execution_count": 2,
   "metadata": {
    "id": "IAbUvEiYyWFF"
   },
   "outputs": [
    {
     "name": "stdout",
     "output_type": "stream",
     "text": [
      "61295\n"
     ]
    }
   ],
   "source": [
    "def sum_prod(X, V):\n",
    "    '''\n",
    "    X - матрицы (n, n)\n",
    "    V - векторы (n, 1)\n",
    "    Гарантируется, что len(X) == len(V)\n",
    "    '''\n",
    "    summa = 0\n",
    "    for i in range(len(X)):\n",
    "        summa += np.sum(np.dot(X[i], V[i]))\n",
    "\n",
    "    return summa\n",
    "\n",
    "#Test\n",
    "X =  np.array([[[23, 15, 74], \n",
    "                [44, 28, 50], \n",
    "                [85, 34, 12]],\n",
    "                [[23, 0, 39], \n",
    "                [60, 23, 43], \n",
    "                [43, 25, 78]],\n",
    "                [[72, 43, 98], \n",
    "                [60, 32, 43], \n",
    "                [54, 32, 76]],\n",
    "                ])\n",
    "\n",
    "Y = np.array([[34, 23, 4],\n",
    "              [54, 87, 76],\n",
    "              [43, 74, 68]])\n",
    "\n",
    "print(sum_prod(X, Y))"
   ]
  },
  {
   "cell_type": "markdown",
   "metadata": {
    "id": "TKwPG4fIy2w4"
   },
   "source": [
    "<h1>Задача 2. Дана матрица M, напишите функцию, которая бинаризует матрицу по некоторому threshold (то есть, все значения большие threshold становятся равными 1, иначе 0). Напишите тесты для кода"
   ]
  },
  {
   "cell_type": "code",
   "execution_count": 21,
   "metadata": {
    "id": "KQDNMgsjRNH7"
   },
   "outputs": [
    {
     "name": "stdout",
     "output_type": "stream",
     "text": [
      "[[1. 0. 1.]\n",
      " [1. 0. 1.]\n",
      " [0. 0. 0.]]\n",
      "[[1. 0. 0. 0. 0. 1.]\n",
      " [0. 1. 1. 1. 1. 0.]\n",
      " [1. 1. 0. 0. 0. 0.]]\n",
      "[[1. 0. 0. 0. 0.]\n",
      " [1. 1. 1. 0. 0.]\n",
      " [0. 1. 0. 0. 0.]\n",
      " [1. 1. 1. 1. 0.]\n",
      " [1. 0. 1. 1. 0.]]\n"
     ]
    }
   ],
   "source": [
    "def binarize(M, threshold=0.5):\n",
    "    M[M>threshold] = 1\n",
    "    M[M<threshold] = 0\n",
    "    return M\n",
    "\n",
    "\n",
    "#Test\n",
    "a = np.random.rand(3, 3)\n",
    "b = np.random.rand(3, 6)\n",
    "c = np.random.rand(5, 5)\n",
    "\n",
    "print(binarize(a))\n",
    "print(binarize(b))\n",
    "print(binarize(c))"
   ]
  },
  {
   "cell_type": "markdown",
   "metadata": {
    "id": "IY5L-h-7zWhN"
   },
   "source": [
    "<h1>Задача 3. Напишите функцию, которая возвращает уникальные элементы из каждой строки матрицы. Напишите такую же функцию, но для столбцов. Напишите тесты для кода"
   ]
  },
  {
   "cell_type": "code",
   "execution_count": 28,
   "metadata": {
    "id": "-8dEZhR0SBC-"
   },
   "outputs": [
    {
     "name": "stdout",
     "output_type": "stream",
     "text": [
      "[[1, 3], [2, 1, 4], [5, 3, 6]]\n",
      "[[1, 2, 5], [1, 3], [3, 4, 6]]\n"
     ]
    }
   ],
   "source": [
    "def unique_rows(mat):\n",
    "    unique_rows_list = []\n",
    "    for row in mat:\n",
    "        unique_row = []\n",
    "        for element in row:\n",
    "            if element not in unique_row:\n",
    "                unique_row.append(element)\n",
    "        unique_rows_list.append(unique_row)\n",
    "    return unique_rows_list\n",
    "\n",
    "def unique_columns(mat):\n",
    "    mat = mat.T\n",
    "    unique_columns_list = []\n",
    "    for row in mat:\n",
    "        unique_column = []\n",
    "        for element in row:\n",
    "            if element not in unique_column:\n",
    "                unique_column.append(element)\n",
    "        unique_columns_list.append(unique_column)\n",
    "    return unique_columns_list\n",
    "\n",
    "\n",
    "#Test\n",
    "b = np.array([[1, 1, 3],\n",
    "              [2, 1, 4],\n",
    "              [5, 3, 6]])\n",
    "\n",
    "print(unique_rows(b))\n",
    "print(unique_columns(b))"
   ]
  },
  {
   "cell_type": "markdown",
   "metadata": {
    "id": "roYAlo4Jz-lH"
   },
   "source": [
    "<h1>Задача 4. Напишите функцию, которая заполняет матрицу с размерами $(m, n)$ случайными числами, распределенными по нормальному закону. Затем считает мат. ожидание и дисперсию для каждого из столбцов и строк, а также строит для каждой строки и столбца гистограмму значений (использовать функцию hist из модуля matplotlib.plot)"
   ]
  },
  {
   "cell_type": "code",
   "execution_count": 11,
   "metadata": {
    "id": "nZK_71hMSQzv"
   },
   "outputs": [
    {
     "name": "stdout",
     "output_type": "stream",
     "text": [
      "[[-1.12831078 -1.16355283  0.99524501 -0.37823668]\n",
      " [-0.11392414 -0.29814345 -1.4640552  -1.67473469]\n",
      " [-0.33112081 -1.91732605 -0.76120599  0.09317089]\n",
      " [-2.47178667 -0.52976729  2.28461973 -1.22486189]\n",
      " [-0.94911565 -0.91526455 -1.56181876 -0.90908423]]\n"
     ]
    },
    {
     "data": {
      "image/png": "[encoded data removed]",
      "text/plain": [
       "<Figure size 640x480 with 5 Axes>"
      ]
     },
     "metadata": {},
     "output_type": "display_data"
    },
    {
     "data": {
      "image/png": "[encoded data removed]",
      "text/plain": [
       "<Figure size 640x480 with 4 Axes>"
      ]
     },
     "metadata": {},
     "output_type": "display_data"
    }
   ],
   "source": [
    "def generate_normal_matrix(m, n):\n",
    "    matrix = np.random.normal(0, 1, (m, n))\n",
    "    return matrix\n",
    "\n",
    "# Пример использования\n",
    "matrix = generate_normal_matrix(5, 4)\n",
    "print(matrix)\n",
    "\n",
    "def analyze_matrix(matrix):\n",
    "    column_means = np.mean(matrix, axis=0)\n",
    "    column_variances = np.var(matrix, axis=0)\n",
    "\n",
    "    row_means = np.mean(matrix, axis=1)\n",
    "    row_variances = np.var(matrix, axis=1)\n",
    "\n",
    "    # Построение гистограмм для каждой строки\n",
    "    for i in range(matrix.shape[0]):\n",
    "        plt.subplot(matrix.shape[0], 1, i + 1)\n",
    "        plt.hist(matrix[i, :], bins=20)\n",
    "        plt.title(f\"Строка {i + 1}\")\n",
    "        plt.subplots_adjust(hspace=2)\n",
    "    plt.show()\n",
    "\n",
    "     # Построение гистограмм для каждого столбца\n",
    "    for i in range(matrix.shape[1]):\n",
    "        plt.subplot(matrix.shape[1], 1, i + 1)\n",
    "        plt.hist(matrix[:, i], bins=20)\n",
    "        plt.title(f\"Столбец {i + 1}\")\n",
    "        plt.subplots_adjust(hspace=2)\n",
    "\n",
    "    plt.show()\n",
    "\n",
    "#Test\n",
    "matrix = generate_normal_matrix(5, 4)\n",
    "analyze_matrix(matrix)"
   ]
  },
  {
   "cell_type": "markdown",
   "metadata": {
    "id": "BDyATNdM0dJ2"
   },
   "source": [
    "<h1>Задача 5. Напишите функцию, которая заполняет матрицу $(m, n)$ в шахматном порядке заданными числами $a$ и $b$. Напишите тесты для кода"
   ]
  },
  {
   "cell_type": "code",
   "execution_count": 35,
   "metadata": {
    "id": "RWNJYWQGecS6"
   },
   "outputs": [
    {
     "name": "stdout",
     "output_type": "stream",
     "text": [
      "[[1, 0, 1, 0, 1, 0, 1, 0], [0, 1, 0, 1, 0, 1, 0, 1], [1, 0, 1, 0, 1, 0, 1, 0], [0, 1, 0, 1, 0, 1, 0, 1], [1, 0, 1, 0, 1, 0, 1, 0], [0, 1, 0, 1, 0, 1, 0, 1], [1, 0, 1, 0, 1, 0, 1, 0], [0, 1, 0, 1, 0, 1, 0, 1]]\n",
      "[[1, 2, 1, 2], [2, 1, 2, 1], [1, 2, 1, 2], [2, 1, 2, 1], [1, 2, 1, 2]]\n",
      "[[1, 0, 1], [0, 1, 0], [1, 0, 1]]\n"
     ]
    }
   ],
   "source": [
    "def chess(m, n, a, b):\n",
    "    chessboard = [[0 for _ in range(n)] for _ in range(m)]\n",
    "    for i in range(m):\n",
    "        for j in range(n):\n",
    "            if (i + j) % 2 == 0:\n",
    "                chessboard[i][j] = a\n",
    "            else:\n",
    "                chessboard[i][j] = b\n",
    "    return chessboard\n",
    "\n",
    "#Test\n",
    "print(chess(8, 8, 1, 0))\n",
    "print(chess(5, 4, 1, 2))\n",
    "print(chess(3, 3, 1, 0))"
   ]
  },
  {
   "cell_type": "markdown",
   "metadata": {
    "id": "-ymXLtTN0vB6"
   },
   "source": [
    "<h1>Задача 6. Напишите функцию, которая отрисовывает прямоугольник с заданными размерами (a, b) на изображении размера (m, n), цвет фона задайте в схеме RGB, как и цвет прямоугольника. Цвета также должны быть параметрами функции. Напишите аналогичную функцию но для овала с полуосями a и b. Напишите тесты для кода.\n",
    "Примечание: уравнение эллипса (границы овала) можно записать как:\n",
    "<h1>$\\frac{(x-x_0)^2}{a^2}+\\frac{(y-y_0)^2}{b^2}=1$"
   ]
  },
  {
   "cell_type": "code",
   "execution_count": 1,
   "metadata": {
    "id": "sNfl1t_kfOF4"
   },
   "outputs": [],
   "source": []
  },
  {
   "cell_type": "markdown",
   "metadata": {
    "id": "S82c38oz244H"
   },
   "source": [
    "<h1>Задача 7. Дан некий временной ряд. Для данного ряда нужно найти его: математическое ожидание, дисперсию, СКО, найти все локальные максимумы и минимумы (локальный максимум - это точка, которая больше своих соседних точек, а локальный минимум - это точка, которая меньше своих соседей), а также вычислить для данного ряда другой ряд, получаемый методом скользящего среднего с размером окна $p$.\n",
    "<h1>Примечание: метод скользящего среднего подразумевает нахождение среднего из подмножетсва ряда размером $p$"
   ]
  },
  {
   "cell_type": "code",
   "execution_count": 12,
   "metadata": {
    "id": "Zb9mIVge5MMt"
   },
   "outputs": [
    {
     "name": "stdout",
     "output_type": "stream",
     "text": [
      "Скользящее среднее (3): [2.0, 3.0, 4.0, 5.0, 6.0, 7.0, 8.0, 9.0]\n",
      "Локальные экстремумы: [(4, 5)]\n",
      "Стандартное отклонение: 1.4142135623730951\n",
      "Дисперсия: 2.0\n",
      "Математическое ожидание: 3.0\n"
     ]
    }
   ],
   "source": [
    "def mean(data):\n",
    "  return sum(data) / len(data)\n",
    "\n",
    "def variance(data):\n",
    "  mean_value = mean(data)\n",
    "  return sum((x - mean_value)**2 for x in data) / len(data)\n",
    "\n",
    "def stddev(data):\n",
    "  return variance(data) ** 0.5\n",
    "\n",
    "def find_local_extrema(data):\n",
    "  extrema = []\n",
    "  for i in range(1, len(data) - 1):\n",
    "    if data[i] > data[i - 1] and data[i] > data[i + 1]:\n",
    "      extrema.append((i, data[i]))\n",
    "    elif data[i] < data[i - 1] and data[i] < data[i + 1]:\n",
    "      extrema.append((i, data[i]))\n",
    "  return extrema\n",
    "\n",
    "def moving_average(data, window_size):\n",
    "  moving_average_values = []\n",
    "  for i in range(len(data) - window_size + 1):\n",
    "    window = data[i:i + window_size]\n",
    "    average = sum(window) / len(window)\n",
    "    moving_average_values.append(average)\n",
    "  return moving_average_values\n",
    "\n",
    "#Test\n",
    "data = [1, 2, 3, 4, 5, 6, 7, 8, 9, 10]\n",
    "window_size = 3\n",
    "moving_average_values = moving_average(data, window_size)\n",
    "print(f\"Скользящее среднее ({window_size}): {moving_average_values}\")\n",
    "\n",
    "data = [1, 2, 3, 4, 5, 4, 3, 2, 1]\n",
    "extrema = find_local_extrema(data)\n",
    "print(f\"Локальные экстремумы: {extrema}\")\n",
    "\n",
    "data = [1, 2, 3, 4, 5]\n",
    "stddev_value = stddev(data)\n",
    "print(f\"Стандартное отклонение: {stddev_value}\")\n",
    "\n",
    "data = [1, 2, 3, 4, 5]\n",
    "variance_value = variance(data)\n",
    "print(f\"Дисперсия: {variance_value}\")\n",
    "\n",
    "data = [1, 2, 3, 4, 5]\n",
    "mean_value = mean(data)\n",
    "print(f\"Математическое ожидание: {mean_value}\")\n"
   ]
  },
  {
   "cell_type": "markdown",
   "metadata": {
    "id": "jPkylmOX5O9n"
   },
   "source": [
    "<h1> Задача 8. Дан некоторый вектор с целочисленными метками классов, напишите функцию, которая выполняет one-hot-encoding для данного вектора\n",
    "<h1> One-hot-encoding - представление, в котором на месте метки некоторого класса стоит 1, в остальных позициях стоит 0. Например для вектора [0, 2, 3, 0] one-hot-encoding выглядит как: [[1, 0, 0, 0], [0, 0, 1, 0], [0, 0, 0, 1], [1, 0, 0, 0]]"
   ]
  },
  {
   "cell_type": "code",
   "execution_count": 34,
   "metadata": {
    "id": "Y-jlnZvw56lD"
   },
   "outputs": [
    {
     "name": "stdout",
     "output_type": "stream",
     "text": [
      "[[0. 1. 0. 0.]\n",
      " [0. 0. 1. 0.]\n",
      " [0. 0. 0. 1.]\n",
      " [1. 0. 0. 0.]\n",
      " [1. 0. 0. 0.]]\n"
     ]
    }
   ],
   "source": [
    "def one_hot_encoding(labels):\n",
    "  # Вычисление количества уникальных классов\n",
    "  num_classes = np.unique(labels).shape[0]\n",
    "\n",
    "  # One-hot-encoding\n",
    "  one_hot_encoded = np.zeros((labels.shape[0], num_classes))\n",
    "  for i in range(labels.shape[0]):\n",
    "    one_hot_encoded[i, labels[i]] = 1\n",
    "\n",
    "  return one_hot_encoded\n",
    "\n",
    "#Test\n",
    "labels = np.array([1, 2, 3, 0, 0])\n",
    "one_hot_encoded = one_hot_encoding(labels)\n",
    "print(one_hot_encoded)"
   ]
  }
 ],
 "metadata": {
  "colab": {
   "provenance": []
  },
  "kernelspec": {
   "display_name": "Python 3 (ipykernel)",
   "language": "python",
   "name": "python3"
  },
  "language_info": {
   "codemirror_mode": {
    "name": "ipython",
    "version": 3
   },
   "file_extension": ".py",
   "mimetype": "text/x-python",
   "name": "python",
   "nbconvert_exporter": "python",
   "pygments_lexer": "ipython3",
   "version": "3.10.1"
  }
 },
 "nbformat": 4,
 "nbformat_minor": 4
}
