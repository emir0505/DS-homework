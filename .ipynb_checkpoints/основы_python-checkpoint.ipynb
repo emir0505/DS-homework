{
 "cells": [
  {
   "cell_type": "markdown",
   "metadata": {
    "id": "M-DGa20PaHnu"
   },
   "source": [
    "# Задача 1\n",
    "Написать функцию на вход которой подается строка, состоящая из латинских букв.\n",
    "Функция должна вернуть количество гласных букв (a, e, i, o, u) в этой строке. Написать тесты для кода"
   ]
  },
  {
   "cell_type": "code",
   "execution_count": 19,
   "metadata": {
    "id": "XvX8X_JJ6PCb"
   },
   "outputs": [
    {
     "name": "stdout",
     "output_type": "stream",
     "text": [
      "2\n",
      "5\n",
      "0\n",
      "2\n"
     ]
    }
   ],
   "source": [
    "def count_vwls(sentence):\n",
    "    vwls = 'aeiouAEIOU'\n",
    "    count = 0\n",
    "    for i in sentence:\n",
    "        if i in vwls:\n",
    "            count += 1\n",
    "    return count\n",
    "\n",
    "#Test\n",
    "print(count_vwls(\"Hello\"))\n",
    "print(count_vwls(\"AEIOU\"))\n",
    "print(count_vwls(\"qwrtyp\"))\n",
    "print(count_vwls('Hi, world!'))"
   ]
  },
  {
   "cell_type": "markdown",
   "metadata": {
    "id": "t2ClV_Y0bbr6"
   },
   "source": [
    "# Задача 2\n",
    "Написать функцию на вход, которой подается строка. Функция должна вернуть true, если\n",
    "каждый символ в строке встречается только 1 раз, иначе должна вернуть false. Написать тесты для кода"
   ]
  },
  {
   "cell_type": "code",
   "execution_count": 32,
   "metadata": {
    "id": "FppbECao6VIz"
   },
   "outputs": [
    {
     "name": "stdout",
     "output_type": "stream",
     "text": [
      "False\n",
      "True\n",
      "False\n",
      "True\n"
     ]
    }
   ],
   "source": [
    "def contain_unique_letters(sentence):\n",
    "    unique_letters = ''\n",
    "    for i in sentence:\n",
    "        if i not in unique_letters:\n",
    "            unique_letters += i\n",
    "        else:\n",
    "            return False\n",
    "    return True\n",
    "\n",
    "#Test\n",
    "print(contain_unique_letters('fkojdopgvn'))\n",
    "print(contain_unique_letters('qazwsxedcrfv'))\n",
    "print(contain_unique_letters('qwertyy'))\n",
    "print(contain_unique_letters('12nuif43hb_5'))"
   ]
  },
  {
   "cell_type": "markdown",
   "metadata": {
    "id": "udRiIK1cdt6E"
   },
   "source": [
    "# Задача 3\n",
    "Написать функцию, которая принимает положительное число и возвращает количество\n",
    "бит равных 1 в этом числе. Написать тесты для кода"
   ]
  },
  {
   "cell_type": "code",
   "execution_count": 35,
   "metadata": {
    "id": "6tkfDJRz6dp_"
   },
   "outputs": [
    {
     "name": "stdout",
     "output_type": "stream",
     "text": [
      "3\n",
      "1\n",
      "5\n",
      "1\n",
      "10\n"
     ]
    }
   ],
   "source": [
    "def count_bits(n: int) -> int:\n",
    "  count = 0\n",
    "  while n:\n",
    "    count += n & 1\n",
    "    n >>= 1\n",
    "  return count\n",
    "\n",
    "#Test\n",
    "print(count_bits(100))\n",
    "print(count_bits(128))\n",
    "print(count_bits(333))\n",
    "print(count_bits(256))\n",
    "print(count_bits(1023))"
   ]
  },
  {
   "cell_type": "markdown",
   "metadata": {
    "id": "26dDUz-Ae17N"
   },
   "source": [
    "# Задача 4\n",
    "Написать функцию, которая принимает положительное число. Функция должна вернуть то,\n",
    "сколько раз необходимо перемножать цифры числа или результат перемножения, чтобы\n",
    "получилось число состоящее из одной цифры.\n",
    "Например, для входного числа:\n",
    "· 39 функция должна вернуть 3, так как 3*9=27 => 2*7=14 => 1*4=4\n",
    "· 4 функция должна вернуть 0, так как число уже состоит из одной цифры\n",
    "· 999 функция должна вернуть 4, так как 9*9*9=729 => 7*2*9=126 => 1*2*6=12 =>\n",
    "1*2=2. Написать тесты для кода"
   ]
  },
  {
   "cell_type": "code",
   "execution_count": 36,
   "metadata": {
    "id": "BH1A_Mgi6i4G"
   },
   "outputs": [
    {
     "name": "stdout",
     "output_type": "stream",
     "text": [
      "3\n",
      "0\n",
      "4\n"
     ]
    }
   ],
   "source": [
    "def magic(n):\n",
    "    count = 0\n",
    "    while n >= 10:\n",
    "        multiplier = 1\n",
    "        while n:\n",
    "            multiplier *= n % 10\n",
    "            n //= 10\n",
    "        n = multiplier\n",
    "        count += 1\n",
    "    return count\n",
    "\n",
    "#Test\n",
    "print(magic(39))\n",
    "print(magic(4))\n",
    "print(magic(999))"
   ]
  },
  {
   "cell_type": "markdown",
   "metadata": {
    "id": "0nS-kIa8g8vd"
   },
   "source": [
    "# Задача 5\n",
    "Написать функцию, которая принимает два целочисленных вектора одинаковой длины и\n",
    "возвращает среднеквадратическое отклонение двух векторов. Написать тесты для кода"
   ]
  },
  {
   "cell_type": "code",
   "execution_count": 42,
   "metadata": {
    "id": "8iphx4LM6xbx"
   },
   "outputs": [
    {
     "name": "stdout",
     "output_type": "stream",
     "text": [
      "0.0\n",
      "3.0\n",
      "0.5773502691896257\n"
     ]
    }
   ],
   "source": [
    "from math import sqrt\n",
    "def mse(pred, true):\n",
    "    summa = 0\n",
    "    for i in range(len(pred)):\n",
    "        summa += (pred[i] - true[i])**2\n",
    "        \n",
    "    return sqrt(summa / len(pred))\n",
    "\n",
    "#Test\n",
    "print(mse([1, 2, 3], [1, 2, 3]))\n",
    "print(mse([1, 2, 3], [4, 5, 6]))\n",
    "print(mse([1, 1, 1], [1, 1, 2]))"
   ]
  },
  {
   "cell_type": "markdown",
   "metadata": {
    "id": "vpIPKL439zkw"
   },
   "source": [
    "# Задача 6\n",
    "Написать функцию, принимающая целое положительное число. Функция должна вернуть\n",
    "строку вида “(n1**p1)(n2**p2)…(nk**pk)” представляющая разложение числа на простые\n",
    "множители (если pi == 1, то выводить только ni).\n",
    "Например, для числа 86240 функция должна вернуть “(2**5)(5)(7**2)(11)”. Написать тесты для кода"
   ]
  },
  {
   "cell_type": "code",
   "execution_count": 8,
   "metadata": {},
   "outputs": [
    {
     "name": "stdout",
     "output_type": "stream",
     "text": [
      "(2^5)(5)(7^2)(11)\n",
      "(2^2)(3)\n",
      "(13)\n"
     ]
    }
   ],
   "source": [
    "def prime_fact(n):\n",
    "    factors = {}\n",
    "    while n % 2 == 0:\n",
    "        factors[2] = factors.get(2, 0) + 1\n",
    "        n //= 2\n",
    "    for i in range(3, int(n ** 0.5) + 1, 2):\n",
    "        while n % i == 0:\n",
    "            factors[i] = factors.get(i, 0) + 1\n",
    "            n //= i\n",
    "    if n > 1:\n",
    "        factors[n] = 1\n",
    "    result = \"\"\n",
    "    for prime, power in factors.items():\n",
    "        if power == 1:\n",
    "            result += f\"({prime})\"\n",
    "        else:\n",
    "            result += f\"({prime}^{power})\"\n",
    "    return result\n",
    "\n",
    "#Test\n",
    "print(prime_fact(86240))  # \"(2^5)(5)(7^2)(11)\"\n",
    "print(prime_fact(12))  # \"(2^2)(3)\"\n",
    "print(prime_fact(13))  # \"(13)\""
   ]
  },
  {
   "cell_type": "markdown",
   "metadata": {
    "id": "ps2s0BudX7A2"
   },
   "source": [
    "# Задача 7\n",
    "Написать функцию, принимающая целое число n, задающее количество кубиков. Функция\n",
    "должна определить, можно ли из данного кол-ва кубиков построить пирамиду, то есть\n",
    "можно ли представить число n как 1^2+2^2+3^2+…+k^2. Если можно, то функция должна\n",
    "вернуть k, иначе строку “It is impossible”. Написать тесты для кода"
   ]
  },
  {
   "cell_type": "code",
   "execution_count": 5,
   "metadata": {
    "id": "3YPjEXxhX_YT"
   },
   "outputs": [
    {
     "name": "stdout",
     "output_type": "stream",
     "text": [
      "1\n",
      "It is impossible\n",
      "It is impossible\n",
      "It is impossible\n"
     ]
    }
   ],
   "source": [
    "def is_pyramid_possible(n):\n",
    "  square_sum = 0\n",
    "\n",
    "  for k in range(1, n + 1):\n",
    "    square_sum += k ** 2\n",
    "\n",
    "    if square_sum > n:\n",
    "      return \"It is impossible\"\n",
    "\n",
    "    if square_sum == n:\n",
    "      return k\n",
    "\n",
    "  return \"It is impossible\"\n",
    "\n",
    "#Test\n",
    "print(is_pyramid_possible(1))\n",
    "print(is_pyramid_possible(6))\n",
    "print(is_pyramid_possible(10))\n",
    "print(is_pyramid_possible(15))"
   ]
  },
  {
   "cell_type": "markdown",
   "metadata": {
    "id": "KeKgmIdAQMEJ"
   },
   "source": [
    "# Задача 8\n",
    "Функция принимает на вход положительное число и определяет является ли оно сбалансированным, т.е. сумма цифр до средних равна сумме цифр после. Средними в случае нечетного числа цифр считать одну цифру, в случае четного - две средних. Написать тесты для кода"
   ]
  },
  {
   "cell_type": "code",
   "execution_count": 4,
   "metadata": {
    "id": "gMAAqtqlQrZt"
   },
   "outputs": [
    {
     "name": "stdout",
     "output_type": "stream",
     "text": [
      "True\n",
      "True\n",
      "True\n",
      "False\n"
     ]
    }
   ],
   "source": [
    "def is_balanced(num):\n",
    "    num_str = str(num)\n",
    "    mid_idx = len(num_str) // 2\n",
    "    return (sum(map(int, str(num_str[:mid_idx]))) == sum(map(int, str(num_str[mid_idx + len(num_str) % 2:]))))\n",
    "\n",
    "#Test\n",
    "print(is_balanced(11))\n",
    "print(is_balanced(2222))\n",
    "print(is_balanced(12603))\n",
    "print(is_balanced(113))"
   ]
  }
 ],
 "metadata": {
  "colab": {
   "provenance": []
  },
  "kernelspec": {
   "display_name": "Python 3 (ipykernel)",
   "language": "python",
   "name": "python3"
  },
  "language_info": {
   "codemirror_mode": {
    "name": "ipython",
    "version": 3
   },
   "file_extension": ".py",
   "mimetype": "text/x-python",
   "name": "python",
   "nbconvert_exporter": "python",
   "pygments_lexer": "ipython3",
   "version": "3.10.1"
  }
 },
 "nbformat": 4,
 "nbformat_minor": 4
}
